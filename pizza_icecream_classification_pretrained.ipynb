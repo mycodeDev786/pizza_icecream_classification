{
  "cells": [
    {
      "cell_type": "code",
      "execution_count": 1,
      "metadata": {
        "id": "XwS3JKt-U1CE",
        "colab": {
          "base_uri": "https://localhost:8080/"
        },
        "outputId": "ca2fb927-41d6-4381-b829-03593cfbe2fb"
      },
      "outputs": [
        {
          "output_type": "stream",
          "name": "stdout",
          "text": [
            "Mounted at /content/drive\n"
          ]
        }
      ],
      "source": [
        "#My dataset is available in googledrive; so I am accessing my drive from colab\n",
        "from google.colab import drive\n",
        "drive.mount('/content/drive', force_remount=True)\n",
        "#Once this is executed, you will see your drive appearing on the left hand side"
      ]
    },
    {
      "cell_type": "code",
      "execution_count": 2,
      "metadata": {
        "id": "SMPHESYVVnzp"
      },
      "outputs": [],
      "source": [
        "# Define paths to the dataset\n",
        "train_dir = '/content/drive/MyDrive/PizzaVsIcecream/train'  # Update with your actual path\n",
        "test_dir = '/content/drive/MyDrive/PizzaVsIcecream/test'    # Update with your actual path"
      ]
    },
    {
      "cell_type": "code",
      "execution_count": 3,
      "metadata": {
        "colab": {
          "base_uri": "https://localhost:8080/"
        },
        "id": "wwfZiLtU6Ruq",
        "outputId": "40aa4311-ba50-4954-d349-82262d0c6cc6"
      },
      "outputs": [
        {
          "output_type": "stream",
          "name": "stdout",
          "text": [
            "327\n",
            "391\n",
            "47\n",
            "59\n"
          ]
        }
      ],
      "source": [
        "import os\n",
        "print(len(os.listdir('/content/drive/MyDrive/PizzaVsIcecream/train/pizza')))\n",
        "print(len(os.listdir('/content/drive/MyDrive/PizzaVsIcecream/train/icecream')))\n",
        "print(len(os.listdir('/content/drive/MyDrive/PizzaVsIcecream/test/pizza')))\n",
        "print(len(os.listdir('/content/drive/MyDrive/PizzaVsIcecream/test/icecream')))"
      ]
    },
    {
      "cell_type": "code",
      "execution_count": 4,
      "metadata": {
        "colab": {
          "base_uri": "https://localhost:8080/"
        },
        "id": "kf8li3JNUJR1",
        "outputId": "740b0d8b-32b9-48f8-cd7c-983718bd70ec"
      },
      "outputs": [
        {
          "output_type": "stream",
          "name": "stdout",
          "text": [
            "Found 575 images belonging to 2 classes.\n",
            "Found 143 images belonging to 2 classes.\n"
          ]
        }
      ],
      "source": [
        "import tensorflow as tf\n",
        "from tensorflow.keras.preprocessing.image import ImageDataGenerator\n",
        "\n",
        "# Create ImageDataGenerator for training set\n",
        "train_datagen = ImageDataGenerator(\n",
        "    rescale=1./255,\n",
        "    validation_split=0.2  # Split 20% of the images for validation\n",
        ")\n",
        "\n",
        "# Load and prepare training data\n",
        "train_data = train_datagen.flow_from_directory(\n",
        "    train_dir,\n",
        "    target_size=(256,256),\n",
        "    batch_size=32,\n",
        "    class_mode='binary',  # 'binary' for binary classification (cats vs. dogs)\n",
        "    subset='training'  # Specify 'training' for the training set\n",
        ")\n",
        "\n",
        "# Create ImageDataGenerator for validation set\n",
        "validation_datagen = ImageDataGenerator(\n",
        "    rescale=1./255,\n",
        "    validation_split=0.2  # Note: Using the same validation split as in the training set\n",
        ")\n",
        "\n",
        "# Load and prepare validation data\n",
        "validation_data = validation_datagen.flow_from_directory(\n",
        "    train_dir,\n",
        "    target_size=(256,256),\n",
        "    batch_size=32,\n",
        "    class_mode='binary',\n",
        "    subset='validation'  # Specify 'validation' for the validation set\n",
        ")"
      ]
    },
    {
      "cell_type": "code",
      "source": [
        "from tensorflow import keras\n",
        "from keras import Sequential\n",
        "from keras.layers import Dense,Conv2D,MaxPooling2D,Flatten\n",
        "\n",
        "resnet_model = Sequential()    #ResNet50 is a pre-trained model\n",
        "pretrained_model = tf.keras.applications.ResNet50(include_top = False, #because i have my own image of a diff dimension\n",
        "                                                input_shape = (256,256,3),\n",
        "                                                pooling = 'max', classes = 2,\n",
        "                                                weights = 'imagenet')\n",
        "for layer in pretrained_model.layers:\n",
        "    layer.trainable = False  #all layers in the Resnet50 is not trainable; keep those weights; I am going to add my own i/p and other layers\n",
        "\n",
        "resnet_model.add(pretrained_model)\n",
        "resnet_model.add(Flatten())\n",
        "resnet_model.add(Dense(512, activation = 'relu'))\n",
        "resnet_model.add(Dense(1, activation = 'sigmoid'))"
      ],
      "metadata": {
        "id": "ja7Bv3UkSlKz",
        "colab": {
          "base_uri": "https://localhost:8080/"
        },
        "outputId": "6593f64a-da4e-4f34-81d7-7cad2f5f5be5"
      },
      "execution_count": 5,
      "outputs": [
        {
          "output_type": "stream",
          "name": "stdout",
          "text": [
            "Downloading data from https://storage.googleapis.com/tensorflow/keras-applications/resnet/resnet50_weights_tf_dim_ordering_tf_kernels_notop.h5\n",
            "94765736/94765736 [==============================] - 5s 0us/step\n"
          ]
        }
      ]
    },
    {
      "cell_type": "code",
      "source": [
        "resnet_model.summary()"
      ],
      "metadata": {
        "colab": {
          "base_uri": "https://localhost:8080/"
        },
        "id": "dDZwlEw9VSVh",
        "outputId": "ccd2dee8-4210-4e59-dd02-e31b94d08d48"
      },
      "execution_count": 6,
      "outputs": [
        {
          "output_type": "stream",
          "name": "stdout",
          "text": [
            "Model: \"sequential\"\n",
            "_________________________________________________________________\n",
            " Layer (type)                Output Shape              Param #   \n",
            "=================================================================\n",
            " resnet50 (Functional)       (None, 2048)              23587712  \n",
            "                                                                 \n",
            " flatten (Flatten)           (None, 2048)              0         \n",
            "                                                                 \n",
            " dense (Dense)               (None, 512)               1049088   \n",
            "                                                                 \n",
            " dense_1 (Dense)             (None, 1)                 513       \n",
            "                                                                 \n",
            "=================================================================\n",
            "Total params: 24637313 (93.98 MB)\n",
            "Trainable params: 1049601 (4.00 MB)\n",
            "Non-trainable params: 23587712 (89.98 MB)\n",
            "_________________________________________________________________\n"
          ]
        }
      ]
    },
    {
      "cell_type": "code",
      "execution_count": 7,
      "metadata": {
        "id": "SeBjyn0iWXgY"
      },
      "outputs": [],
      "source": [
        "from keras.optimizers import Adam\n",
        "resnet_model.compile(optimizer=Adam(learning_rate=0.001),loss='binary_crossentropy',metrics=['accuracy']) #binary_crossentropy - binary classification"
      ]
    },
    {
      "cell_type": "code",
      "execution_count": 8,
      "metadata": {
        "colab": {
          "base_uri": "https://localhost:8080/"
        },
        "id": "lGbY2VpIWbTt",
        "outputId": "3317b93d-c906-4cec-b565-b4c96b071d51"
      },
      "outputs": [
        {
          "output_type": "stream",
          "name": "stdout",
          "text": [
            "Epoch 1/3\n",
            "18/18 [==============================] - 321s 18s/step - loss: 2.4655 - accuracy: 0.5304 - val_loss: 1.6056 - val_accuracy: 0.5734\n",
            "Epoch 2/3\n",
            "18/18 [==============================] - 5s 291ms/step - loss: 0.7436 - accuracy: 0.7026 - val_loss: 0.5958 - val_accuracy: 0.7692\n",
            "Epoch 3/3\n",
            "18/18 [==============================] - 5s 280ms/step - loss: 0.5487 - accuracy: 0.7496 - val_loss: 0.6025 - val_accuracy: 0.7622\n"
          ]
        }
      ],
      "source": [
        "history = resnet_model.fit(train_data, epochs=3, validation_data=validation_data)"
      ]
    },
    {
      "cell_type": "code",
      "execution_count": 9,
      "metadata": {
        "id": "g21dMlSOWKas",
        "colab": {
          "base_uri": "https://localhost:8080/",
          "height": 430
        },
        "outputId": "17884036-9e26-4bdf-ffcf-c4867d6af943"
      },
      "outputs": [
        {
          "output_type": "display_data",
          "data": {
            "text/plain": [
              "<Figure size 640x480 with 1 Axes>"
            ],
            "image/png": "[encoded data removed]"
          },
          "metadata": {}
        }
      ],
      "source": [
        "import matplotlib.pyplot as plt\n",
        "\n",
        "plt.plot(history.history['accuracy'],color='red',label='train')\n",
        "plt.plot(history.history['val_accuracy'],color='blue',label='validation')\n",
        "plt.legend()\n",
        "plt.show()"
      ]
    },
    {
      "cell_type": "code",
      "execution_count": 10,
      "metadata": {
        "id": "FYZ0VJp4esXl",
        "colab": {
          "base_uri": "https://localhost:8080/",
          "height": 430
        },
        "outputId": "97a83c53-45f5-461c-c9ac-5918d2ddef70"
      },
      "outputs": [
        {
          "output_type": "display_data",
          "data": {
            "text/plain": [
              "<Figure size 640x480 with 1 Axes>"
            ],
            "image/png": "[encoded data removed]"
          },
          "metadata": {}
        }
      ],
      "source": [
        "plt.plot(history.history['loss'],color='red',label='train')\n",
        "plt.plot(history.history['val_loss'],color='blue',label='validation')\n",
        "plt.legend()\n",
        "plt.show()"
      ]
    },
    {
      "cell_type": "code",
      "execution_count": 11,
      "metadata": {
        "id": "tQj_RyrZWBEt",
        "colab": {
          "base_uri": "https://localhost:8080/"
        },
        "outputId": "8009a3d1-f6ec-468c-c758-cf4604736a02"
      },
      "outputs": [
        {
          "output_type": "stream",
          "name": "stdout",
          "text": [
            "Found 106 images belonging to 2 classes.\n"
          ]
        }
      ],
      "source": [
        "test_datagen = ImageDataGenerator(rescale=1./255)\n",
        "test_data = test_datagen.flow_from_directory(\n",
        "    test_dir,\n",
        "    target_size=(256,256),\n",
        "    batch_size=32,\n",
        "    class_mode='binary'\n",
        ")"
      ]
    },
    {
      "cell_type": "code",
      "execution_count": 12,
      "metadata": {
        "id": "glicW8_5vTqd",
        "colab": {
          "base_uri": "https://localhost:8080/"
        },
        "outputId": "7131e552-bb0c-4008-db00-98747e94a0aa"
      },
      "outputs": [
        {
          "output_type": "stream",
          "name": "stdout",
          "text": [
            "4/4 [==============================] - 70s 23s/step\n",
            "[[0.82062906]\n",
            " [0.09175116]\n",
            " [0.16834778]\n",
            " [0.15924945]\n",
            " [0.03857357]\n",
            " [0.88831735]\n",
            " [0.04300556]\n",
            " [0.4129495 ]\n",
            " [0.15028058]\n",
            " [0.05672844]\n",
            " [0.5012441 ]\n",
            " [0.05302911]\n",
            " [0.73196447]\n",
            " [0.03891545]\n",
            " [0.04965674]\n",
            " [0.2213915 ]\n",
            " [0.42342782]\n",
            " [0.03715243]\n",
            " [0.98362124]\n",
            " [0.96229476]\n",
            " [0.85716784]\n",
            " [0.05940882]\n",
            " [0.02053873]\n",
            " [0.0552655 ]\n",
            " [0.03016732]\n",
            " [0.01288241]\n",
            " [0.13526826]\n",
            " [0.07502901]\n",
            " [0.86748385]\n",
            " [0.19074473]\n",
            " [0.01948652]\n",
            " [0.2850732 ]\n",
            " [0.02534563]\n",
            " [0.04835312]\n",
            " [0.03031089]\n",
            " [0.02526308]\n",
            " [0.80436975]\n",
            " [0.05203087]\n",
            " [0.03638507]\n",
            " [0.06444668]\n",
            " [0.06477791]\n",
            " [0.02302812]\n",
            " [0.8445979 ]\n",
            " [0.9017159 ]\n",
            " [0.2748249 ]\n",
            " [0.45340973]\n",
            " [0.02994562]\n",
            " [0.15734473]\n",
            " [0.5984261 ]\n",
            " [0.6878812 ]\n",
            " [0.05025638]\n",
            " [0.8151189 ]\n",
            " [0.01006329]\n",
            " [0.1570322 ]\n",
            " [0.01556466]\n",
            " [0.8890873 ]\n",
            " [0.15447572]\n",
            " [0.06602378]\n",
            " [0.02331901]\n",
            " [0.04965674]\n",
            " [0.08889246]\n",
            " [0.3713358 ]\n",
            " [0.0409699 ]\n",
            " [0.18614624]\n",
            " [0.02605649]\n",
            " [0.12711711]\n",
            " [0.1691288 ]\n",
            " [0.04835312]\n",
            " [0.7439225 ]\n",
            " [0.5178717 ]\n",
            " [0.62615   ]\n",
            " [0.1318669 ]\n",
            " [0.09994265]\n",
            " [0.04056895]\n",
            " [0.64867926]\n",
            " [0.05613064]\n",
            " [0.02189596]\n",
            " [0.5914082 ]\n",
            " [0.02053873]\n",
            " [0.6610173 ]\n",
            " [0.16689263]\n",
            " [0.3565973 ]\n",
            " [0.03527921]\n",
            " [0.23264115]\n",
            " [0.9520726 ]\n",
            " [0.7005751 ]\n",
            " [0.04620362]\n",
            " [0.6355579 ]\n",
            " [0.47207248]\n",
            " [0.24766068]\n",
            " [0.14495708]\n",
            " [0.38804734]\n",
            " [0.402579  ]\n",
            " [0.04129458]\n",
            " [0.01871503]\n",
            " [0.87059397]\n",
            " [0.17411162]\n",
            " [0.0608356 ]\n",
            " [0.02891872]\n",
            " [0.06158384]\n",
            " [0.16224207]\n",
            " [0.89000475]\n",
            " [0.32389882]\n",
            " [0.04466791]\n",
            " [0.4002394 ]\n",
            " [0.01375618]]\n"
          ]
        }
      ],
      "source": [
        "#predict the test data\n",
        "predictions = resnet_model.predict(test_data)\n",
        "print(predictions)"
      ]
    },
    {
      "cell_type": "code",
      "execution_count": 13,
      "metadata": {
        "id": "r7XjnjcNyMbv",
        "colab": {
          "base_uri": "https://localhost:8080/"
        },
        "outputId": "7ada5759-d38e-40ec-fca6-277e2fa1fde6"
      },
      "outputs": [
        {
          "output_type": "execute_result",
          "data": {
            "text/plain": [
              "106"
            ]
          },
          "metadata": {},
          "execution_count": 13
        }
      ],
      "source": [
        "len(predictions)"
      ]
    },
    {
      "cell_type": "code",
      "execution_count": 14,
      "metadata": {
        "id": "oqqBXpuhyd6x",
        "colab": {
          "base_uri": "https://localhost:8080/"
        },
        "outputId": "d16b2532-7af5-4d0c-fb1e-a151a1fc2dac"
      },
      "outputs": [
        {
          "output_type": "stream",
          "name": "stdout",
          "text": [
            "Confusion Matrix:\n",
            "[[44 15]\n",
            " [36 11]]\n",
            "Classification Report:\n",
            "              precision    recall  f1-score   support\n",
            "\n",
            "           0       0.55      0.75      0.63        59\n",
            "           1       0.42      0.23      0.30        47\n",
            "\n",
            "    accuracy                           0.52       106\n",
            "   macro avg       0.49      0.49      0.47       106\n",
            "weighted avg       0.49      0.52      0.49       106\n",
            "\n"
          ]
        }
      ],
      "source": [
        "from sklearn.metrics import confusion_matrix, classification_report\n",
        "\n",
        "# Assuming you have ground truth labels (true_labels) and predicted labels (predictions)\n",
        "true_labels = test_data.classes\n",
        "predicted_labels = (predictions > 0.5).astype(int)  # Adjust the threshold as needed\n",
        "\n",
        "# Calculate confusion matrix\n",
        "cm = confusion_matrix(true_labels, predicted_labels)\n",
        "\n",
        "# Print confusion matrix\n",
        "print(\"Confusion Matrix:\")\n",
        "print(cm)\n",
        "\n",
        "# Print classification report\n",
        "print(\"Classification Report:\")\n",
        "print(classification_report(true_labels, predicted_labels))"
      ]
    }
  ],
  "metadata": {
    "accelerator": "GPU",
    "colab": {
      "provenance": [],
      "gpuType": "T4"
    },
    "kernelspec": {
      "display_name": "Python 3",
      "name": "python3"
    },
    "language_info": {
      "name": "python"
    }
  },
  "nbformat": 4,
  "nbformat_minor": 0
}