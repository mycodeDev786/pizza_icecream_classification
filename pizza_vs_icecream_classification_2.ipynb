{
  "cells": [
    {
      "cell_type": "code",
      "execution_count": 1,
      "metadata": {
        "colab": {
          "base_uri": "https://localhost:8080/"
        },
        "id": "XwS3JKt-U1CE",
        "outputId": "5b130ec2-e6d9-4c16-cb1f-406f23f10a01"
      },
      "outputs": [
        {
          "output_type": "stream",
          "name": "stdout",
          "text": [
            "Mounted at /content/drive\n"
          ]
        }
      ],
      "source": [
        "#My dataset is available in googledrive; so I am accessing my drive from colab\n",
        "from google.colab import drive\n",
        "drive.mount('/content/drive', force_remount=True)\n",
        "#Once this is executed, you will see your drive appearing on the left hand side"
      ]
    },
    {
      "cell_type": "code",
      "execution_count": 2,
      "metadata": {
        "id": "SMPHESYVVnzp"
      },
      "outputs": [],
      "source": [
        "# Define paths to the dataset\n",
        "train_dir = '/content/drive/MyDrive/PizzaVsIcecream/train'  # Update with your actual path\n",
        "test_dir = '/content/drive/MyDrive/PizzaVsIcecream/test'    # Update with your actual path"
      ]
    },
    {
      "cell_type": "code",
      "execution_count": 3,
      "metadata": {
        "colab": {
          "base_uri": "https://localhost:8080/"
        },
        "id": "wwfZiLtU6Ruq",
        "outputId": "1c5edd4f-7e5c-4ec4-ba3a-8c9f78fdd271"
      },
      "outputs": [
        {
          "output_type": "stream",
          "name": "stdout",
          "text": [
            "327\n",
            "391\n",
            "47\n",
            "59\n"
          ]
        }
      ],
      "source": [
        "import os\n",
        "print(len(os.listdir('/content/drive/MyDrive/PizzaVsIcecream/train/pizza')))\n",
        "print(len(os.listdir('/content/drive/MyDrive/PizzaVsIcecream/train/icecream')))\n",
        "print(len(os.listdir('/content/drive/MyDrive/PizzaVsIcecream/test/pizza')))\n",
        "print(len(os.listdir('/content/drive/MyDrive/PizzaVsIcecream/test/icecream')))"
      ]
    },
    {
      "cell_type": "code",
      "execution_count": 4,
      "metadata": {
        "colab": {
          "base_uri": "https://localhost:8080/"
        },
        "id": "kf8li3JNUJR1",
        "outputId": "c427ea60-5baf-4610-c6e2-4a7a2f5e03b2"
      },
      "outputs": [
        {
          "output_type": "stream",
          "name": "stdout",
          "text": [
            "Found 575 images belonging to 2 classes.\n",
            "Found 143 images belonging to 2 classes.\n"
          ]
        }
      ],
      "source": [
        "import tensorflow as tf\n",
        "from tensorflow.keras.preprocessing.image import ImageDataGenerator\n",
        "\n",
        "# Create ImageDataGenerator for training set\n",
        "train_datagen = ImageDataGenerator(\n",
        "    rescale=1./255,\n",
        "    validation_split=0.2  # Split 20% of the images for validation\n",
        ")\n",
        "\n",
        "# Load and prepare training data\n",
        "train_data = train_datagen.flow_from_directory(\n",
        "    train_dir,\n",
        "    target_size=(256,256),\n",
        "    batch_size=32,\n",
        "    class_mode='binary',  # 'binary' for binary classification (cats vs. dogs)\n",
        "    subset='training'  # Specify 'training' for the training set\n",
        ")\n",
        "\n",
        "# Create ImageDataGenerator for validation set\n",
        "validation_datagen = ImageDataGenerator(\n",
        "    rescale=1./255,\n",
        "    validation_split=0.2  # Note: Using the same validation split as in the training set\n",
        ")\n",
        "\n",
        "# Load and prepare validation data\n",
        "validation_data = validation_datagen.flow_from_directory(\n",
        "    train_dir,\n",
        "    target_size=(256,256),\n",
        "    batch_size=32,\n",
        "    class_mode='binary',\n",
        "    subset='validation'  # Specify 'validation' for the validation set\n",
        ")"
      ]
    },
    {
      "cell_type": "code",
      "execution_count": 5,
      "metadata": {
        "id": "wGp6oIfQWMFh"
      },
      "outputs": [],
      "source": [
        "from tensorflow import keras\n",
        "from keras import Sequential\n",
        "from keras.layers import Dense,Conv2D,MaxPooling2D,Flatten,BatchNormalization,UpSampling2D, Dropout"
      ]
    },
    {
      "cell_type": "code",
      "execution_count": 6,
      "metadata": {
        "id": "6liLEEzLWNB5"
      },
      "outputs": [],
      "source": [
        "# create CNN model\n",
        "\n",
        "model = Sequential()\n",
        "\n",
        "model.add(Conv2D(32,kernel_size=(3,3),padding='valid',activation='relu',input_shape=(256,256,3)))  # 32 filters\n",
        "#model.add(BatchNormalization())  # added to reduce overfitting\n",
        "model.add(MaxPooling2D(pool_size=(2,2),strides=2,padding='valid'))\n",
        "\n",
        "model.add(Conv2D(64,kernel_size=(3,3),padding='valid',activation='relu'))\n",
        "#model.add(BatchNormalization())  # added to reduce overfitting\n",
        "model.add(MaxPooling2D(pool_size=(2,2),strides=2,padding='valid'))\n",
        "\n",
        "model.add(Conv2D(128,kernel_size=(3,3),padding='valid',activation='relu'))\n",
        "#model.add(BatchNormalization())  # added to reduce overfitting\n",
        "model.add(MaxPooling2D(pool_size=(2,2),strides=2,padding='valid'))\n",
        "\n",
        "model.add(Flatten())\n",
        "\n",
        "model.add(Dense(128,activation='relu')) #feature reduction\n",
        "#model.add(Dropout(0.1))  # added to reduce overfitting\n",
        "model.add(Dense(64,activation='relu'))\n",
        "#model.add(Dropout(0.1))  # added to reduce overfitting\n",
        "model.add(Dense(1,activation='sigmoid'))  #output layer"
      ]
    },
    {
      "cell_type": "code",
      "execution_count": 7,
      "metadata": {
        "id": "SeBjyn0iWXgY"
      },
      "outputs": [],
      "source": [
        "from keras.optimizers import Adam\n",
        "model.compile(optimizer=Adam(learning_rate=0.001),loss='binary_crossentropy',metrics=['accuracy']) #binary_crossentropy - binary classification"
      ]
    },
    {
      "cell_type": "code",
      "execution_count": 8,
      "metadata": {
        "colab": {
          "base_uri": "https://localhost:8080/"
        },
        "id": "lGbY2VpIWbTt",
        "outputId": "47087924-50b5-4768-8396-0347d90e3709"
      },
      "outputs": [
        {
          "output_type": "stream",
          "name": "stdout",
          "text": [
            "Epoch 1/10\n",
            "18/18 [==============================] - 149s 8s/step - loss: 0.8925 - accuracy: 0.5687 - val_loss: 0.6292 - val_accuracy: 0.8042\n",
            "Epoch 2/10\n",
            "18/18 [==============================] - 3s 185ms/step - loss: 0.4855 - accuracy: 0.7965 - val_loss: 0.3927 - val_accuracy: 0.8531\n",
            "Epoch 3/10\n",
            "18/18 [==============================] - 3s 175ms/step - loss: 0.3263 - accuracy: 0.8522 - val_loss: 0.3073 - val_accuracy: 0.8811\n",
            "Epoch 4/10\n",
            "18/18 [==============================] - 3s 176ms/step - loss: 0.2620 - accuracy: 0.8817 - val_loss: 0.3583 - val_accuracy: 0.8881\n",
            "Epoch 5/10\n",
            "18/18 [==============================] - 3s 171ms/step - loss: 0.1499 - accuracy: 0.9339 - val_loss: 0.3733 - val_accuracy: 0.8951\n",
            "Epoch 6/10\n",
            "18/18 [==============================] - 3s 184ms/step - loss: 0.1873 - accuracy: 0.9183 - val_loss: 0.3692 - val_accuracy: 0.8531\n",
            "Epoch 7/10\n",
            "18/18 [==============================] - 3s 176ms/step - loss: 0.0966 - accuracy: 0.9565 - val_loss: 0.5331 - val_accuracy: 0.8601\n",
            "Epoch 8/10\n",
            "18/18 [==============================] - 3s 172ms/step - loss: 0.0310 - accuracy: 0.9948 - val_loss: 0.4163 - val_accuracy: 0.8881\n",
            "Epoch 9/10\n",
            "18/18 [==============================] - 3s 175ms/step - loss: 0.0145 - accuracy: 0.9983 - val_loss: 0.6167 - val_accuracy: 0.8392\n",
            "Epoch 10/10\n",
            "18/18 [==============================] - 3s 183ms/step - loss: 0.0091 - accuracy: 0.9983 - val_loss: 0.6541 - val_accuracy: 0.8811\n"
          ]
        }
      ],
      "source": [
        "history = model.fit(train_data, epochs=10, validation_data=validation_data)"
      ]
    },
    {
      "cell_type": "code",
      "execution_count": 9,
      "metadata": {
        "id": "g21dMlSOWKas",
        "colab": {
          "base_uri": "https://localhost:8080/",
          "height": 430
        },
        "outputId": "082803c8-b80e-4cfd-eb96-10c2e1a5f492"
      },
      "outputs": [
        {
          "output_type": "display_data",
          "data": {
            "text/plain": [
              "<Figure size 640x480 with 1 Axes>"
            ],
            "image/png": "[encoded data removed]"
          },
          "metadata": {}
        }
      ],
      "source": [
        "import matplotlib.pyplot as plt\n",
        "\n",
        "plt.plot(history.history['accuracy'],color='red',label='train')\n",
        "plt.plot(history.history['val_accuracy'],color='blue',label='validation')\n",
        "plt.legend()\n",
        "plt.show()"
      ]
    },
    {
      "cell_type": "code",
      "execution_count": 10,
      "metadata": {
        "id": "FYZ0VJp4esXl",
        "colab": {
          "base_uri": "https://localhost:8080/",
          "height": 430
        },
        "outputId": "6bbc664c-e4b7-4e8e-ad2e-a1756cc4e8df"
      },
      "outputs": [
        {
          "output_type": "display_data",
          "data": {
            "text/plain": [
              "<Figure size 640x480 with 1 Axes>"
            ],
            "image/png": "[encoded data removed]"
          },
          "metadata": {}
        }
      ],
      "source": [
        "plt.plot(history.history['loss'],color='red',label='train')\n",
        "plt.plot(history.history['val_loss'],color='blue',label='validation')\n",
        "plt.legend()\n",
        "plt.show()"
      ]
    },
    {
      "cell_type": "code",
      "execution_count": 11,
      "metadata": {
        "id": "tQj_RyrZWBEt",
        "colab": {
          "base_uri": "https://localhost:8080/"
        },
        "outputId": "04bc5879-04ef-4b55-db53-e95c20737c74"
      },
      "outputs": [
        {
          "output_type": "stream",
          "name": "stdout",
          "text": [
            "Found 106 images belonging to 2 classes.\n"
          ]
        }
      ],
      "source": [
        "test_datagen = ImageDataGenerator(rescale=1./255)\n",
        "test_data = test_datagen.flow_from_directory(\n",
        "    test_dir,\n",
        "    target_size=(256,256),\n",
        "    batch_size=32,\n",
        "    class_mode='binary'\n",
        ")"
      ]
    },
    {
      "cell_type": "code",
      "execution_count": 12,
      "metadata": {
        "id": "glicW8_5vTqd",
        "colab": {
          "base_uri": "https://localhost:8080/"
        },
        "outputId": "312642a7-5b6e-4766-c3e0-1beed9950492"
      },
      "outputs": [
        {
          "output_type": "stream",
          "name": "stdout",
          "text": [
            "4/4 [==============================] - 34s 11s/step\n",
            "[[3.32448008e-06]\n",
            " [9.96987164e-01]\n",
            " [2.12542964e-05]\n",
            " [4.01516169e-01]\n",
            " [9.70684767e-01]\n",
            " [6.54325631e-05]\n",
            " [9.99999881e-01]\n",
            " [9.85374570e-01]\n",
            " [9.99999762e-01]\n",
            " [5.04506635e-04]\n",
            " [7.33845174e-01]\n",
            " [1.09418423e-03]\n",
            " [9.12058830e-01]\n",
            " [2.47300050e-04]\n",
            " [4.85730709e-07]\n",
            " [1.01669701e-02]\n",
            " [9.99999881e-01]\n",
            " [1.09276503e-01]\n",
            " [9.99720991e-01]\n",
            " [7.08934385e-06]\n",
            " [1.08702792e-04]\n",
            " [9.99968052e-01]\n",
            " [7.62102500e-05]\n",
            " [5.20731082e-13]\n",
            " [1.56213369e-04]\n",
            " [6.60975047e-06]\n",
            " [9.99988675e-01]\n",
            " [9.99999285e-01]\n",
            " [9.99980569e-01]\n",
            " [9.99936819e-01]\n",
            " [1.38979760e-06]\n",
            " [2.05769584e-06]\n",
            " [4.94507440e-05]\n",
            " [1.00000000e+00]\n",
            " [2.37510631e-05]\n",
            " [1.92307925e-06]\n",
            " [8.17373511e-05]\n",
            " [5.45245530e-05]\n",
            " [4.98782933e-01]\n",
            " [9.64999072e-06]\n",
            " [9.99993801e-01]\n",
            " [2.54988316e-02]\n",
            " [5.33465922e-01]\n",
            " [2.44834315e-04]\n",
            " [7.50711784e-02]\n",
            " [7.40625896e-03]\n",
            " [2.47300050e-04]\n",
            " [1.70144800e-03]\n",
            " [1.24125538e-04]\n",
            " [9.99913096e-01]\n",
            " [3.16699520e-02]\n",
            " [2.95361042e-01]\n",
            " [2.90644821e-04]\n",
            " [1.12093966e-02]\n",
            " [9.61797595e-01]\n",
            " [9.62460339e-01]\n",
            " [9.99904037e-01]\n",
            " [3.30325274e-04]\n",
            " [1.00000000e+00]\n",
            " [8.26811174e-07]\n",
            " [9.46216169e-04]\n",
            " [3.71278147e-05]\n",
            " [7.70974220e-05]\n",
            " [1.89158731e-04]\n",
            " [1.10482701e-09]\n",
            " [7.30646253e-01]\n",
            " [9.99997139e-01]\n",
            " [9.34967220e-01]\n",
            " [9.99992251e-01]\n",
            " [9.99660730e-01]\n",
            " [1.51686868e-06]\n",
            " [2.13686260e-03]\n",
            " [1.00000000e+00]\n",
            " [1.61480799e-01]\n",
            " [1.91704006e-04]\n",
            " [3.97406012e-07]\n",
            " [7.67743643e-07]\n",
            " [4.01324440e-09]\n",
            " [9.17406559e-01]\n",
            " [7.60323189e-07]\n",
            " [1.34577505e-08]\n",
            " [6.21212678e-07]\n",
            " [6.21212678e-07]\n",
            " [1.76919706e-08]\n",
            " [3.76002135e-05]\n",
            " [9.99974489e-01]\n",
            " [9.99999404e-01]\n",
            " [9.99994397e-01]\n",
            " [1.00000000e+00]\n",
            " [5.98549485e-01]\n",
            " [9.98308301e-01]\n",
            " [9.98937547e-01]\n",
            " [9.99926925e-01]\n",
            " [9.99501109e-01]\n",
            " [9.99985933e-01]\n",
            " [5.31677884e-08]\n",
            " [3.65103681e-08]\n",
            " [9.92905498e-01]\n",
            " [1.03733324e-08]\n",
            " [9.99990582e-01]\n",
            " [8.07326636e-04]\n",
            " [3.30325274e-04]\n",
            " [4.16333705e-01]\n",
            " [2.32696184e-05]\n",
            " [7.13611301e-03]\n",
            " [9.99941826e-01]]\n"
          ]
        }
      ],
      "source": [
        "#predict the test data\n",
        "predictions = model.predict(test_data)\n",
        "print(predictions)"
      ]
    },
    {
      "cell_type": "code",
      "execution_count": 13,
      "metadata": {
        "id": "r7XjnjcNyMbv",
        "colab": {
          "base_uri": "https://localhost:8080/"
        },
        "outputId": "67bee801-4dda-4973-d079-b0ba0bd6c206"
      },
      "outputs": [
        {
          "output_type": "execute_result",
          "data": {
            "text/plain": [
              "106"
            ]
          },
          "metadata": {},
          "execution_count": 13
        }
      ],
      "source": [
        "len(predictions)"
      ]
    },
    {
      "cell_type": "code",
      "execution_count": 14,
      "metadata": {
        "id": "oqqBXpuhyd6x",
        "colab": {
          "base_uri": "https://localhost:8080/"
        },
        "outputId": "0ce9dda8-f177-449b-b010-fd871d173688"
      },
      "outputs": [
        {
          "output_type": "stream",
          "name": "stdout",
          "text": [
            "Confusion Matrix:\n",
            "[[37 22]\n",
            " [27 20]]\n",
            "Classification Report:\n",
            "              precision    recall  f1-score   support\n",
            "\n",
            "           0       0.58      0.63      0.60        59\n",
            "           1       0.48      0.43      0.45        47\n",
            "\n",
            "    accuracy                           0.54       106\n",
            "   macro avg       0.53      0.53      0.53       106\n",
            "weighted avg       0.53      0.54      0.53       106\n",
            "\n"
          ]
        }
      ],
      "source": [
        "from sklearn.metrics import confusion_matrix, classification_report\n",
        "\n",
        "# Assuming you have ground truth labels (true_labels) and predicted labels (predictions)\n",
        "true_labels = test_data.classes\n",
        "predicted_labels = (predictions > 0.5).astype(int)  # Adjust the threshold as needed\n",
        "\n",
        "# Calculate confusion matrix\n",
        "cm = confusion_matrix(true_labels, predicted_labels)\n",
        "\n",
        "# Print confusion matrix\n",
        "print(\"Confusion Matrix:\")\n",
        "print(cm)\n",
        "\n",
        "# Print classification report\n",
        "print(\"Classification Report:\")\n",
        "print(classification_report(true_labels, predicted_labels))"
      ]
    }
  ],
  "metadata": {
    "accelerator": "GPU",
    "colab": {
      "provenance": [],
      "machine_shape": "hm",
      "gpuType": "L4"
    },
    "kernelspec": {
      "display_name": "Python 3",
      "name": "python3"
    },
    "language_info": {
      "name": "python"
    }
  },
  "nbformat": 4,
  "nbformat_minor": 0
}